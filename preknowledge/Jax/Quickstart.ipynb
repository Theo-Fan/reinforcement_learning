{
 "cells": [
  {
   "cell_type": "code",
   "execution_count": 15,
   "id": "6055da4d",
   "metadata": {},
   "outputs": [
    {
     "name": "stdout",
     "output_type": "stream",
     "text": [
      "Requirement already satisfied: jax in /Users/theo/miniconda3/envs/SocialJax/lib/python3.10/site-packages (0.4.23)\n",
      "Requirement already satisfied: ml-dtypes>=0.2.0 in /Users/theo/miniconda3/envs/SocialJax/lib/python3.10/site-packages (from jax) (0.5.1)\n",
      "Requirement already satisfied: numpy>=1.22 in /Users/theo/miniconda3/envs/SocialJax/lib/python3.10/site-packages (from jax) (1.26.4)\n",
      "Requirement already satisfied: opt-einsum in /Users/theo/miniconda3/envs/SocialJax/lib/python3.10/site-packages (from jax) (3.4.0)\n",
      "Requirement already satisfied: scipy>=1.9 in /Users/theo/miniconda3/envs/SocialJax/lib/python3.10/site-packages (from jax) (1.12.0)\n"
     ]
    }
   ],
   "source": [
    "!pip install jax"
   ]
  },
  {
   "cell_type": "code",
   "execution_count": 16,
   "id": "0471c4bf",
   "metadata": {},
   "outputs": [],
   "source": [
    "import jax.numpy as jnp"
   ]
  },
  {
   "cell_type": "code",
   "execution_count": 17,
   "id": "bf52e5b3",
   "metadata": {},
   "outputs": [
    {
     "name": "stdout",
     "output_type": "stream",
     "text": [
      "[0. 1. 2. 3. 4.]\n",
      "[0.        1.05      2.1       3.1499999 4.2      ]\n"
     ]
    }
   ],
   "source": [
    "def selu(x, alpha=1.67, lmbda=1.05):\n",
    "  return lmbda * jnp.where(x > 0, x, alpha * jnp.exp(x) - alpha)\n",
    "\n",
    "x = jnp.arange(5.0)\n",
    "print(x)\n",
    "print(selu(x))"
   ]
  },
  {
   "cell_type": "markdown",
   "id": "690d39ec",
   "metadata": {},
   "source": [
    "# 🔪 Pure functions"
   ]
  },
  {
   "cell_type": "code",
   "execution_count": 18,
   "id": "2169e327",
   "metadata": {},
   "outputs": [
    {
     "name": "stdout",
     "output_type": "stream",
     "text": [
      "Traced<ShapedArray(int32[], weak_type=True)>with<DynamicJaxprTrace(level=1/0)>\n",
      "9\n"
     ]
    }
   ],
   "source": [
    "import jax\n",
    "\n",
    "def f(x):\n",
    "    print(x)   # ❌ 副作用，JIT 时可能不执行或重复打印\n",
    "    return x ** 2\n",
    "\n",
    "jitted_f = jax.jit(f)(3)\n",
    "print(jitted_f)"
   ]
  },
  {
   "cell_type": "code",
   "execution_count": 19,
   "id": "ae7b83ff",
   "metadata": {},
   "outputs": [],
   "source": [
    "import numpy as np\n",
    "from jax import jit\n",
    "from jax import lax\n",
    "from jax import random\n",
    "import jax"
   ]
  },
  {
   "cell_type": "code",
   "execution_count": 20,
   "id": "17db0fbf",
   "metadata": {},
   "outputs": [
    {
     "name": "stdout",
     "output_type": "stream",
     "text": [
      "Executing function\n",
      "First call:  4.0\n",
      "Second call:  5.0\n",
      "Executing function\n",
      "Third call, different type:  [5.]\n"
     ]
    }
   ],
   "source": [
    "def impure_print_side_effect(x):\n",
    "    print(\"Executing function\")  # This is a side-effect\n",
    "    return x\n",
    "\n",
    "# The side-effects appear during the first run\n",
    "print (\"First call: \", jit(impure_print_side_effect)(4.))\n",
    "\n",
    "# Subsequent runs with parameters of same type and shape may not show the side-effect\n",
    "# This is because JAX now invokes a cached compilation of the function\n",
    "# 第二次调用时直接调用编译好的函数，第二次使用同种方式调用（传入参数类型相同）可能不会重复执行相同的部分\n",
    "print (\"Second call: \", jit(impure_print_side_effect)(5.))\n",
    "\n",
    "# JAX re-runs the Python function when the type or shape of the argument changes\n",
    "print (\"Third call, different type: \", jit(impure_print_side_effect)(jnp.array([5.])))"
   ]
  },
  {
   "cell_type": "code",
   "execution_count": 21,
   "id": "c14c04c4",
   "metadata": {},
   "outputs": [
    {
     "name": "stdout",
     "output_type": "stream",
     "text": [
      "First call:  4.0\n",
      "Second call:  5.0\n",
      "Third call, different type:  [14.]\n"
     ]
    }
   ],
   "source": [
    "g = 0.\n",
    "def impure_uses_globals(x):\n",
    "    return x + g\n",
    "\n",
    "# JAX captures the value of the global during the first run\n",
    "print (\"First call: \", jit(impure_uses_globals)(4.))\n",
    "g = 10.  # Update the global\n",
    "\n",
    "# Subsequent runs may silently use the cached value of the globals\n",
    "print (\"Second call: \", jit(impure_uses_globals)(5.))\n",
    "\n",
    "# JAX re-runs the Python function when the type or shape of the argument changes\n",
    "# This will end up reading the latest value of the global\n",
    "# 传入新的参数类型会重新编译函数，读取新的全局参数\n",
    "print (\"Third call, different type: \", jit(impure_uses_globals)(jnp.array([4.])))"
   ]
  },
  {
   "cell_type": "markdown",
   "id": "d35a705b",
   "metadata": {},
   "source": [
    "# Just-in-time compilation with jax.jit()"
   ]
  },
  {
   "cell_type": "code",
   "execution_count": 22,
   "id": "89d939a0",
   "metadata": {},
   "outputs": [
    {
     "name": "stdout",
     "output_type": "stream",
     "text": [
      "841 μs ± 20.6 μs per loop (mean ± std. dev. of 7 runs, 1,000 loops each)\n"
     ]
    }
   ],
   "source": [
    "from jax import random\n",
    "\n",
    "key = random.key(1701)\n",
    "x = random.normal(key, (1_000_000,))\n",
    "%timeit selu(x).block_until_ready()"
   ]
  },
  {
   "cell_type": "code",
   "execution_count": null,
   "id": "c83833ea",
   "metadata": {},
   "outputs": [
    {
     "name": "stdout",
     "output_type": "stream",
     "text": [
      "227 μs ± 12.4 μs per loop (mean ± std. dev. of 7 runs, 1,000 loops each)\n"
     ]
    }
   ],
   "source": [
    "from jax import jit\n",
    "\n",
    "# jit() 调用函数，并进行加速\n",
    "selu_jit = jit(selu)\n",
    "_ = selu_jit(x)  # 首次调用时编译\n",
    "%timeit selu_jit(x).block_until_ready() # 第二次调用速度更快【直接使用编译后的函数】"
   ]
  },
  {
   "cell_type": "markdown",
   "id": "9a314844",
   "metadata": {},
   "source": [
    "# Taking derivatives with jax.grad()"
   ]
  },
  {
   "cell_type": "code",
   "execution_count": null,
   "id": "8ed6e9c6",
   "metadata": {},
   "outputs": [
    {
     "name": "stdout",
     "output_type": "stream",
     "text": [
      "[0.25       0.19661197 0.10499357]\n"
     ]
    }
   ],
   "source": [
    "from jax import grad # 自动求导\n",
    "\n",
    "def sum_logistic(x):\n",
    "    return jnp.sum(1.0 / (1.0 + jnp.exp(-x)))\n",
    "\n",
    "x_small = jnp.arange(3.)\n",
    "derivative_fn = grad(sum_logistic)\n",
    "print(derivative_fn(x_small))\n"
   ]
  },
  {
   "cell_type": "code",
   "execution_count": 28,
   "id": "95cd7e06",
   "metadata": {},
   "outputs": [
    {
     "name": "stdout",
     "output_type": "stream",
     "text": [
      "[0.24998187 0.1964569  0.10502338]\n"
     ]
    }
   ],
   "source": [
    "# verify result\n",
    "def first_finite_differences(f, x, eps=1E-3): # 导数的定义\n",
    "    return jnp.array(\n",
    "        [(f(x + eps * v) - f(x - eps * v)) / (2 * eps) for v in jnp.eye(len(x))]\n",
    "    )\n",
    "\n",
    "print(first_finite_differences(sum_logistic, x_small))"
   ]
  },
  {
   "cell_type": "code",
   "execution_count": 29,
   "id": "9d7820fb",
   "metadata": {},
   "outputs": [
    {
     "name": "stdout",
     "output_type": "stream",
     "text": [
      "-0.035325598\n"
     ]
    }
   ],
   "source": [
    "# grad() 和 jit() 函数可以混合使用\n",
    "# 计算三阶导数\n",
    "print(jit(grad(jit(grad(jit(grad(sum_logistic))))))(1.0))"
   ]
  },
  {
   "cell_type": "code",
   "execution_count": 35,
   "id": "98bc5e3e",
   "metadata": {},
   "outputs": [
    {
     "name": "stdout",
     "output_type": "stream",
     "text": [
      "[[1.        0.        0.       ]\n",
      " [0.        2.7182817 0.       ]\n",
      " [0.        0.        7.389056 ]]\n"
     ]
    }
   ],
   "source": [
    "from jax import jacobian\n",
    "print(jacobian(jnp.exp)(x_small))"
   ]
  },
  {
   "cell_type": "code",
   "execution_count": null,
   "id": "1bd1ef5d",
   "metadata": {},
   "outputs": [
    {
     "name": "stdout",
     "output_type": "stream",
     "text": [
      "[[-0.         -0.         -0.        ]\n",
      " [-0.         -0.09085775 -0.        ]\n",
      " [-0.         -0.         -0.07996249]]\n"
     ]
    }
   ],
   "source": [
    "# jax.vjp(f, x) 反向模式 给定输入 x，返回 f(x) 以及一个 反向传播函数（vector-Jacobian product）\n",
    "# jax.jvp(f, x, v) 正向模式 给定输入 x 和方向向量 v，计算方向导数\n",
    "# jax.linearize(f, x) 正向模式 返回 (f(x), linear_fn)，linear_fn 可用于多次高效计算方向导数\n",
    "# jax.jacrev(fun)：使用反向模式获取一阶导数（Gradient）\n",
    "# jax.jacfwd(...)：再对一阶导数使用正向模式，得到二阶导数（即 Hessian）\n",
    "\n",
    "from jax import jacfwd, jacrev\n",
    "\n",
    "def hessian(fun):\n",
    "    return jit(jacfwd(jacrev(fun))) # return jit(jacrev(jacrev(fun)))\n",
    "print(hessian(sum_logistic)(x_small))"
   ]
  },
  {
   "cell_type": "code",
   "execution_count": null,
   "id": "0e1ebf35",
   "metadata": {},
   "outputs": [],
   "source": []
  }
 ],
 "metadata": {
  "kernelspec": {
   "display_name": "SocialJax",
   "language": "python",
   "name": "python3"
  },
  "language_info": {
   "codemirror_mode": {
    "name": "ipython",
    "version": 3
   },
   "file_extension": ".py",
   "mimetype": "text/x-python",
   "name": "python",
   "nbconvert_exporter": "python",
   "pygments_lexer": "ipython3",
   "version": "3.10.18"
  }
 },
 "nbformat": 4,
 "nbformat_minor": 5
}

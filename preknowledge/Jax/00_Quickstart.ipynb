{
 "cells": [
  {
   "cell_type": "code",
   "execution_count": 1,
   "id": "6055da4d",
   "metadata": {},
   "outputs": [
    {
     "name": "stdout",
     "output_type": "stream",
     "text": [
      "Looking in indexes: https://pypi.tuna.tsinghua.edu.cn/simple\n",
      "Collecting jax\n",
      "  Downloading https://pypi.tuna.tsinghua.edu.cn/packages/fd/f2/9dbb75de3058acfd1600cf0839bcce7ea391148c9d2b4fa5f5666e66f09e/jax-0.4.30-py3-none-any.whl (2.0 MB)\n",
      "\u001b[2K     \u001b[90m━━━━━━━━━━━━━━━━━━━━━━━━━━━━━━━━━━━━━━━━\u001b[0m \u001b[32m2.0/2.0 MB\u001b[0m \u001b[31m588.0 kB/s\u001b[0m eta \u001b[36m0:00:00\u001b[0ma \u001b[36m0:00:01\u001b[0m\n",
      "\u001b[?25hCollecting jaxlib<=0.4.30,>=0.4.27 (from jax)\n",
      "  Downloading https://pypi.tuna.tsinghua.edu.cn/packages/f3/1d/2d417a1445d5e696bb44d564c7519d4a6761db4d3e31712620c510ed0127/jaxlib-0.4.30-cp39-cp39-macosx_11_0_arm64.whl (66.7 MB)\n",
      "\u001b[2K     \u001b[90m━━━━━━━━━━━━━━━━━━━━━━━━━━━━━━━━━━━━━━━━\u001b[0m \u001b[32m66.7/66.7 MB\u001b[0m \u001b[31m1.6 MB/s\u001b[0m eta \u001b[36m0:00:00\u001b[0m00:01\u001b[0m00:02\u001b[0mm\n",
      "\u001b[?25hRequirement already satisfied: ml-dtypes>=0.2.0 in /opt/anaconda3/envs/py39/lib/python3.9/site-packages (from jax) (0.4.0)\n",
      "Requirement already satisfied: numpy>=1.22 in /opt/anaconda3/envs/py39/lib/python3.9/site-packages (from jax) (1.26.4)\n",
      "Requirement already satisfied: opt-einsum in /opt/anaconda3/envs/py39/lib/python3.9/site-packages (from jax) (3.3.0)\n",
      "Requirement already satisfied: scipy>=1.9 in /opt/anaconda3/envs/py39/lib/python3.9/site-packages (from jax) (1.13.1)\n",
      "Requirement already satisfied: importlib-metadata>=4.6 in /opt/anaconda3/envs/py39/lib/python3.9/site-packages (from jax) (8.2.0)\n",
      "Requirement already satisfied: zipp>=0.5 in /opt/anaconda3/envs/py39/lib/python3.9/site-packages (from importlib-metadata>=4.6->jax) (3.17.0)\n",
      "Installing collected packages: jaxlib, jax\n",
      "Successfully installed jax-0.4.30 jaxlib-0.4.30\n",
      "\n",
      "\u001b[1m[\u001b[0m\u001b[34;49mnotice\u001b[0m\u001b[1;39;49m]\u001b[0m\u001b[39;49m A new release of pip is available: \u001b[0m\u001b[31;49m24.3.1\u001b[0m\u001b[39;49m -> \u001b[0m\u001b[32;49m25.1.1\u001b[0m\n",
      "\u001b[1m[\u001b[0m\u001b[34;49mnotice\u001b[0m\u001b[1;39;49m]\u001b[0m\u001b[39;49m To update, run: \u001b[0m\u001b[32;49mpip install --upgrade pip\u001b[0m\n"
     ]
    }
   ],
   "source": [
    "!pip install jax"
   ]
  },
  {
   "cell_type": "code",
   "execution_count": 2,
   "id": "0471c4bf",
   "metadata": {},
   "outputs": [],
   "source": [
    "import jax.numpy as jnp"
   ]
  },
  {
   "cell_type": "code",
   "execution_count": 3,
   "id": "bf52e5b3",
   "metadata": {},
   "outputs": [
    {
     "name": "stdout",
     "output_type": "stream",
     "text": [
      "[0. 1. 2. 3. 4.]\n",
      "[0.        1.05      2.1       3.1499999 4.2      ]\n"
     ]
    }
   ],
   "source": [
    "def selu(x, alpha=1.67, lmbda=1.05):\n",
    "  return lmbda * jnp.where(x > 0, x, alpha * jnp.exp(x) - alpha)\n",
    "\n",
    "x = jnp.arange(5.0)\n",
    "print(x)\n",
    "print(selu(x))"
   ]
  },
  {
   "cell_type": "markdown",
   "id": "690d39ec",
   "metadata": {},
   "source": [
    "# 🔪 Pure functions"
   ]
  },
  {
   "cell_type": "code",
   "execution_count": 4,
   "id": "2169e327",
   "metadata": {},
   "outputs": [
    {
     "name": "stdout",
     "output_type": "stream",
     "text": [
      "Traced<ShapedArray(int32[], weak_type=True)>with<DynamicJaxprTrace(level=1/0)>\n",
      "9\n"
     ]
    }
   ],
   "source": [
    "import jax\n",
    "\n",
    "def f(x):\n",
    "    print(x)   # ❌ 副作用，JIT 时可能不执行或重复打印\n",
    "    return x ** 2\n",
    "\n",
    "jitted_f = jax.jit(f)(3)\n",
    "print(jitted_f)"
   ]
  },
  {
   "cell_type": "code",
   "execution_count": 5,
   "id": "ae7b83ff",
   "metadata": {},
   "outputs": [],
   "source": [
    "import numpy as np\n",
    "from jax import jit\n",
    "from jax import lax\n",
    "from jax import random\n",
    "import jax"
   ]
  },
  {
   "cell_type": "code",
   "execution_count": 6,
   "id": "17db0fbf",
   "metadata": {},
   "outputs": [
    {
     "name": "stdout",
     "output_type": "stream",
     "text": [
      "Executing function\n",
      "First call:  4.0\n",
      "Second call:  5.0\n",
      "Executing function\n",
      "Third call, different type:  [5.]\n"
     ]
    }
   ],
   "source": [
    "def impure_print_side_effect(x):\n",
    "    print(\"Executing function\")  # This is a side-effect\n",
    "    return x\n",
    "\n",
    "# The side-effects appear during the first run\n",
    "print (\"First call: \", jit(impure_print_side_effect)(4.))\n",
    "\n",
    "# Subsequent runs with parameters of same type and shape may not show the side-effect\n",
    "# This is because JAX now invokes a cached compilation of the function\n",
    "# 第二次调用时直接调用编译好的函数，第二次使用同种方式调用（传入参数类型相同）可能不会重复执行相同的部分\n",
    "print (\"Second call: \", jit(impure_print_side_effect)(5.))\n",
    "\n",
    "# JAX re-runs the Python function when the type or shape of the argument changes\n",
    "print (\"Third call, different type: \", jit(impure_print_side_effect)(jnp.array([5.])))"
   ]
  },
  {
   "cell_type": "code",
   "execution_count": 7,
   "id": "c14c04c4",
   "metadata": {},
   "outputs": [
    {
     "name": "stdout",
     "output_type": "stream",
     "text": [
      "First call:  4.0\n",
      "Second call:  5.0\n",
      "Third call, different type:  [14.]\n"
     ]
    }
   ],
   "source": [
    "g = 0.\n",
    "def impure_uses_globals(x):\n",
    "    return x + g\n",
    "\n",
    "# JAX captures the value of the global during the first run\n",
    "print (\"First call: \", jit(impure_uses_globals)(4.))\n",
    "g = 10.  # Update the global\n",
    "\n",
    "# Subsequent runs may silently use the cached value of the globals\n",
    "print (\"Second call: \", jit(impure_uses_globals)(5.))\n",
    "\n",
    "# JAX re-runs the Python function when the type or shape of the argument changes\n",
    "# This will end up reading the latest value of the global\n",
    "# 传入新的参数类型会重新编译函数，读取新的全局参数\n",
    "print (\"Third call, different type: \", jit(impure_uses_globals)(jnp.array([4.])))"
   ]
  },
  {
   "cell_type": "markdown",
   "id": "d35a705b",
   "metadata": {},
   "source": [
    "# Just-in-time compilation with jax.jit()"
   ]
  },
  {
   "cell_type": "code",
   "execution_count": 8,
   "id": "89d939a0",
   "metadata": {},
   "outputs": [
    {
     "name": "stdout",
     "output_type": "stream",
     "text": [
      "753 µs ± 10.3 µs per loop (mean ± std. dev. of 7 runs, 1,000 loops each)\n"
     ]
    }
   ],
   "source": [
    "from jax import random\n",
    "\n",
    "key = random.key(1701)\n",
    "x = random.normal(key, (1_000_000,))\n",
    "%timeit selu(x).block_until_ready()"
   ]
  },
  {
   "cell_type": "code",
   "execution_count": 9,
   "id": "c83833ea",
   "metadata": {},
   "outputs": [
    {
     "name": "stdout",
     "output_type": "stream",
     "text": [
      "231 µs ± 7.5 µs per loop (mean ± std. dev. of 7 runs, 1,000 loops each)\n"
     ]
    }
   ],
   "source": [
    "from jax import jit\n",
    "\n",
    "# jit() 调用函数，并进行加速\n",
    "selu_jit = jit(selu)\n",
    "_ = selu_jit(x)  # 首次调用时编译\n",
    "%timeit selu_jit(x).block_until_ready() # 第二次调用速度更快【直接使用编译后的函数】"
   ]
  },
  {
   "cell_type": "markdown",
   "id": "9a314844",
   "metadata": {},
   "source": [
    "# Taking derivatives with jax.grad()"
   ]
  },
  {
   "cell_type": "code",
   "execution_count": 10,
   "id": "8ed6e9c6",
   "metadata": {},
   "outputs": [
    {
     "name": "stdout",
     "output_type": "stream",
     "text": [
      "[0.25       0.19661197 0.10499357]\n"
     ]
    }
   ],
   "source": [
    "from jax import grad # 自动求导\n",
    "\n",
    "def sum_logistic(x):\n",
    "    return jnp.sum(1.0 / (1.0 + jnp.exp(-x)))\n",
    "\n",
    "x_small = jnp.arange(3.)\n",
    "derivative_fn = grad(sum_logistic)\n",
    "print(derivative_fn(x_small))\n"
   ]
  },
  {
   "cell_type": "code",
   "execution_count": 11,
   "id": "95cd7e06",
   "metadata": {},
   "outputs": [
    {
     "name": "stdout",
     "output_type": "stream",
     "text": [
      "[0.24998187 0.1964569  0.10502338]\n"
     ]
    }
   ],
   "source": [
    "# verify result\n",
    "def first_finite_differences(f, x, eps=1E-3): # 导数的定义\n",
    "    return jnp.array(\n",
    "        [(f(x + eps * v) - f(x - eps * v)) / (2 * eps) for v in jnp.eye(len(x))]\n",
    "    )\n",
    "\n",
    "print(first_finite_differences(sum_logistic, x_small))"
   ]
  },
  {
   "cell_type": "code",
   "execution_count": 12,
   "id": "9d7820fb",
   "metadata": {},
   "outputs": [
    {
     "name": "stdout",
     "output_type": "stream",
     "text": [
      "-0.035325598\n"
     ]
    }
   ],
   "source": [
    "# grad() 和 jit() 函数可以混合使用\n",
    "# 计算三阶导数\n",
    "print(jit(grad(jit(grad(jit(grad(sum_logistic))))))(1.0))"
   ]
  },
  {
   "cell_type": "code",
   "execution_count": 13,
   "id": "98bc5e3e",
   "metadata": {},
   "outputs": [
    {
     "name": "stdout",
     "output_type": "stream",
     "text": [
      "[[1.        0.        0.       ]\n",
      " [0.        2.7182817 0.       ]\n",
      " [0.        0.        7.389056 ]]\n"
     ]
    }
   ],
   "source": [
    "from jax import jacobian\n",
    "print(jacobian(jnp.exp)(x_small))"
   ]
  },
  {
   "cell_type": "code",
   "execution_count": 14,
   "id": "1bd1ef5d",
   "metadata": {},
   "outputs": [
    {
     "name": "stdout",
     "output_type": "stream",
     "text": [
      "[[-0.         -0.         -0.        ]\n",
      " [-0.         -0.09085775 -0.        ]\n",
      " [-0.         -0.         -0.07996249]]\n"
     ]
    }
   ],
   "source": [
    "# jax.vjp(f, x) 反向模式 给定输入 x，返回 f(x) 以及一个 反向传播函数（vector-Jacobian product）\n",
    "# jax.jvp(f, x, v) 正向模式 给定输入 x 和方向向量 v，计算方向导数\n",
    "# jax.linearize(f, x) 正向模式 返回 (f(x), linear_fn)，linear_fn 可用于多次高效计算方向导数\n",
    "# jax.jacrev(fun)：使用反向模式获取一阶导数（Gradient）\n",
    "# jax.jacfwd(...)：再对一阶导数使用正向模式，得到二阶导数（即 Hessian）\n",
    "\n",
    "from jax import jacfwd, jacrev\n",
    "\n",
    "def hessian(fun):\n",
    "    return jit(jacfwd(jacrev(fun))) # return jit(jacrev(jacrev(fun)))\n",
    "print(hessian(sum_logistic)(x_small))"
   ]
  },
  {
   "cell_type": "markdown",
   "id": "d0520810",
   "metadata": {},
   "source": [
    "# Auto-vectorization with jax.vmap()"
   ]
  },
  {
   "cell_type": "code",
   "execution_count": 22,
   "id": "0e1ebf35",
   "metadata": {},
   "outputs": [],
   "source": [
    "key1, key2 = random.split(key)\n",
    "mat = random.normal(key1, (150, 100))\n",
    "batched_x = random.normal(key2, (10, 100))\n",
    "\n",
    "def apply_matrix(x):\n",
    "    return jnp.dot(mat, x)"
   ]
  },
  {
   "cell_type": "code",
   "execution_count": 23,
   "id": "96ecc572",
   "metadata": {},
   "outputs": [
    {
     "name": "stdout",
     "output_type": "stream",
     "text": [
      "Naively batched\n",
      "229 µs ± 1.43 µs per loop (mean ± std. dev. of 7 runs, 1,000 loops each)\n"
     ]
    }
   ],
   "source": [
    "def naively_batched_apply_matrix(v_batched):\n",
    "    return jnp.stack([apply_matrix(v) for v in v_batched])\n",
    "\n",
    "print('Naively batched')\n",
    "%timeit naively_batched_apply_matrix(batched_x).block_until_ready()"
   ]
  },
  {
   "cell_type": "code",
   "execution_count": null,
   "id": "4986f727",
   "metadata": {},
   "outputs": [
    {
     "name": "stdout",
     "output_type": "stream",
     "text": [
      "Manually batched\n",
      "7.88 µs ± 180 ns per loop (mean ± std. dev. of 7 runs, 100,000 loops each)\n"
     ]
    }
   ],
   "source": [
    "import numpy as np\n",
    "\n",
    "@jit\n",
    "def batched_apply_matrix(batched_x):\n",
    "    return jnp.dot(batched_x, mat.T) # 转化为\n",
    "\n",
    "# 断言函数，用于比较两个数组是否“几乎相等”\n",
    "np.testing.assert_allclose(naively_batched_apply_matrix(batched_x), batched_apply_matrix(batched_x), atol=1E-4, rtol=1E-4)\n",
    "print('Manually batched')\n",
    "%timeit batched_apply_matrix(batched_x).block_until_ready()"
   ]
  },
  {
   "cell_type": "code",
   "execution_count": null,
   "id": "a2058695",
   "metadata": {},
   "outputs": [
    {
     "name": "stdout",
     "output_type": "stream",
     "text": [
      "Auto-vectorized with vmap\n",
      "11.1 µs ± 143 ns per loop (mean ± std. dev. of 7 runs, 100,000 loops each)\n"
     ]
    }
   ],
   "source": [
    "from jax import vmap\n",
    "\n",
    "@jit\n",
    "def vmap_batched_apply_matrix(batched_x):\n",
    "    return vmap(apply_matrix)(batched_x)\n",
    "\n",
    "np.testing.assert_allclose(naively_batched_apply_matrix(batched_x), vmap_batched_apply_matrix(batched_x), atol=1E-4, rtol=1E-4)\n",
    "print('Auto-vectorized with vmap')\n",
    "%timeit vmap_batched_apply_matrix(batched_x).block_until_ready()"
   ]
  },
  {
   "cell_type": "code",
   "execution_count": null,
   "id": "ef056e97",
   "metadata": {},
   "outputs": [],
   "source": []
  }
 ],
 "metadata": {
  "kernelspec": {
   "display_name": "py39",
   "language": "python",
   "name": "python3"
  },
  "language_info": {
   "codemirror_mode": {
    "name": "ipython",
    "version": 3
   },
   "file_extension": ".py",
   "mimetype": "text/x-python",
   "name": "python",
   "nbconvert_exporter": "python",
   "pygments_lexer": "ipython3",
   "version": "3.9.19"
  }
 },
 "nbformat": 4,
 "nbformat_minor": 5
}

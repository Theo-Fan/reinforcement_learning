{
 "cells": [
  {
   "cell_type": "markdown",
   "id": "6f62c6ee",
   "metadata": {},
   "source": [
    "# JAX arrays (jax.Array)"
   ]
  },
  {
   "cell_type": "code",
   "execution_count": 1,
   "id": "0e3ff4f9",
   "metadata": {},
   "outputs": [
    {
     "data": {
      "text/plain": [
       "True"
      ]
     },
     "execution_count": 1,
     "metadata": {},
     "output_type": "execute_result"
    }
   ],
   "source": [
    "# create array\n",
    "import jax\n",
    "import jax.numpy as jnp\n",
    "\n",
    "x = jnp.arange(5)\n",
    "isinstance(x, jax.Array)  # True"
   ]
  },
  {
   "cell_type": "code",
   "execution_count": 2,
   "id": "aeb878e6",
   "metadata": {},
   "outputs": [
    {
     "data": {
      "text/plain": [
       "{CpuDevice(id=0)}"
      ]
     },
     "execution_count": 2,
     "metadata": {},
     "output_type": "execute_result"
    }
   ],
   "source": [
    "# Array devices and sharding\n",
    "x.devices()"
   ]
  },
  {
   "cell_type": "code",
   "execution_count": 3,
   "id": "ad7825c1",
   "metadata": {},
   "outputs": [
    {
     "data": {
      "text/plain": [
       "SingleDeviceSharding(device=CpuDevice(id=0))"
      ]
     },
     "execution_count": 3,
     "metadata": {},
     "output_type": "execute_result"
    }
   ],
   "source": [
    "x.sharding"
   ]
  },
  {
   "cell_type": "markdown",
   "id": "5dec7ed9",
   "metadata": {},
   "source": [
    "## Transformations"
   ]
  },
  {
   "cell_type": "markdown",
   "id": "de5cc022",
   "metadata": {},
   "source": [
    "除了对数组进行操作的函数外，JAX 还包括许多对 JAX 函数进行操作的转换。这些转换包括\n",
    "- jax.jit(): Just-in-time (JIT) compilation\n",
    "- jax.vmap(): Vectorizing transform;\n",
    "- jax.grad(): Gradient transform; "
   ]
  },
  {
   "cell_type": "code",
   "execution_count": null,
   "id": "f1ffc1e7",
   "metadata": {},
   "outputs": [
    {
     "name": "stdout",
     "output_type": "stream",
     "text": [
      "1.05\n"
     ]
    }
   ],
   "source": [
    "def selu(x, alpha=1.67, lambda_=1.05):\n",
    "    return lambda_ * jnp.where(x > 0, x, alpha * jnp.exp(x) - alpha)\n",
    "\n",
    "print(jax.jit(selu)(1.0))"
   ]
  },
  {
   "cell_type": "code",
   "execution_count": 8,
   "id": "295a9fb0",
   "metadata": {},
   "outputs": [],
   "source": [
    "# 也可以使用修饰器进行转换，这样就不要额外写 jax.jit(selu)\n",
    "@jax.jit\n",
    "def selu(x, alpha=1.67, lambda_=1.05):\n",
    "    return lambda_ * jnp.where(x > 0, x, alpha * jnp.exp(x) - alpha)\n"
   ]
  },
  {
   "cell_type": "markdown",
   "id": "8c4fcd8c",
   "metadata": {},
   "source": [
    "## Tracing"
   ]
  },
  {
   "cell_type": "markdown",
   "id": "7df582da",
   "metadata": {},
   "source": [
    "transformations 背后的神奇之处在于 Tracer 的概念。Tracers 是数组对象的抽象替代品，它被传递给JAX函数，以便提取函数编码的操作序列。"
   ]
  },
  {
   "cell_type": "code",
   "execution_count": null,
   "id": "5005b91c",
   "metadata": {},
   "outputs": [
    {
     "name": "stdout",
     "output_type": "stream",
     "text": [
      "Traced<ShapedArray(int32[5])>with<DynamicJaxprTrace(level=1/0)>\n"
     ]
    }
   ],
   "source": [
    "@jax.jit\n",
    "def f(x):\n",
    "    print(x) # 传入的 x 不是一个 Array，而是一个Tracer对象\n",
    "    return x + 1\n",
    "\n",
    "x = jnp.arange(5)\n",
    "result = f(x)"
   ]
  },
  {
   "cell_type": "markdown",
   "id": "8d726d00",
   "metadata": {},
   "source": [
    "打印的值不是数组x，而是表示x的基本属性的Tracer实例，比如它的形状和dtype。通过使用跟踪值执行函数，JAX可以在实际执行这些操作之前确定函数编码的操作序列：jit（）、vmap（）和grad（）等转换可以将这个输入操作序列映射到转换后的操作序列。"
   ]
  },
  {
   "cell_type": "markdown",
   "id": "f3b4ecb8",
   "metadata": {},
   "source": [
    "## Jaxprs\n",
    "\n",
    "解析函数的底层逻辑，有点debug的感觉"
   ]
  },
  {
   "cell_type": "code",
   "execution_count": 14,
   "id": "f00f5107",
   "metadata": {},
   "outputs": [],
   "source": [
    "def selu(x, alpha=1.67, lambda_=1.05):\n",
    "    return lambda_ * jnp.where(x > 0, x, alpha * jnp.exp(x) - alpha)"
   ]
  },
  {
   "cell_type": "code",
   "execution_count": 16,
   "id": "68530aa1",
   "metadata": {},
   "outputs": [
    {
     "data": {
      "text/plain": [
       "{ lambda ; a:f32[5]. let\n",
       "    b:bool[5] = gt a 0.0\n",
       "    c:f32[5] = exp a\n",
       "    d:f32[5] = mul 1.6699999570846558 c\n",
       "    e:f32[5] = sub d 1.6699999570846558\n",
       "    f:f32[5] = pjit[\n",
       "      name=_where\n",
       "      jaxpr={ lambda ; g:bool[5] h:f32[5] i:f32[5]. let\n",
       "          j:f32[5] = select_n g i h\n",
       "        in (j,) }\n",
       "    ] b a e\n",
       "    k:f32[5] = mul 1.0499999523162842 f\n",
       "  in (k,) }"
      ]
     },
     "execution_count": 16,
     "metadata": {},
     "output_type": "execute_result"
    }
   ],
   "source": [
    "x = jnp.arange(5.0)\n",
    "jax.make_jaxpr(selu)(x) # 函数的执行逻辑"
   ]
  },
  {
   "cell_type": "markdown",
   "id": "d40697f1",
   "metadata": {},
   "source": [
    "## Pytrees\n",
    "\n",
    "JAX函数和转换基本上是在数组上操作的，但在实践中，编写处理数组集合的代码是很方便的：例如，神经网络可能会将其参数组织在具有有意义键的数组字典中。JAX不是逐个处理这些结构，而是依赖于pytree抽象以统一的方式处理这些集合。"
   ]
  },
  {
   "cell_type": "code",
   "execution_count": 23,
   "id": "8c32776f",
   "metadata": {},
   "outputs": [
    {
     "name": "stdout",
     "output_type": "stream",
     "text": [
      "PyTreeDef([*, *, (*, *)])\n",
      "[1, 2, Array([0, 1, 2], dtype=int32), Array([1., 1.], dtype=float32)]\n"
     ]
    }
   ],
   "source": [
    "# (nested) list of parameters\n",
    "params = [1, 2, (jnp.arange(3), jnp.ones(2))]\n",
    "\n",
    "# print(params[2])\n",
    "\n",
    "print(jax.tree.structure(params)) # structure 表示树的形状\n",
    "print(jax.tree.leaves(params)) # leaves 是最底层的数组/标量值（忽略结构）"
   ]
  },
  {
   "cell_type": "code",
   "execution_count": 24,
   "id": "8ab59f99",
   "metadata": {},
   "outputs": [
    {
     "name": "stdout",
     "output_type": "stream",
     "text": [
      "PyTreeDef({'W': *, 'b': *, 'n': *})\n",
      "[Array([[1., 1.],\n",
      "       [1., 1.]], dtype=float32), Array([0., 0.], dtype=float32), 5]\n"
     ]
    }
   ],
   "source": [
    "# Dictionary of parameters\n",
    "params = {'n': 5, 'W': jnp.ones((2, 2)), 'b': jnp.zeros(2)}\n",
    "\n",
    "print(jax.tree.structure(params))\n",
    "print(jax.tree.leaves(params))"
   ]
  },
  {
   "cell_type": "code",
   "execution_count": 26,
   "id": "1ff15c31",
   "metadata": {},
   "outputs": [
    {
     "name": "stdout",
     "output_type": "stream",
     "text": [
      "PyTreeDef(CustomNode(namedtuple[aaa], [*, *]))\n",
      "[1, 5.0]\n"
     ]
    }
   ],
   "source": [
    "# Named tuple of parameters\n",
    "from typing import NamedTuple\n",
    "\n",
    "class aaa(NamedTuple):\n",
    "    a: int\n",
    "    b: float\n",
    "\n",
    "params = aaa(1, 5.0)\n",
    "print(jax.tree.structure(params))\n",
    "print(jax.tree.leaves(params))"
   ]
  },
  {
   "cell_type": "markdown",
   "id": "b4f15c38",
   "metadata": {},
   "source": [
    "## Pseudorandom numbers"
   ]
  },
  {
   "cell_type": "markdown",
   "id": "845576a4",
   "metadata": {},
   "source": [
    "JAX努力与NumPy兼容，但伪随机数生成是一个明显的例外。NumPy支持基于全局状态生成伪随机数的方法，该方法可以使用NumPy .random.seed（）进行设置。全局随机状态很难与JAX的计算模型进行交互，并且很难在不同的线程、进程和设备之间强制执行再现性。相反，JAX通过一个随机密钥显式地跟踪状态："
   ]
  },
  {
   "cell_type": "markdown",
   "id": "4db26768",
   "metadata": {},
   "source": [
    "np.random.seed(42)\n",
    "\n",
    "- 使用的是全局状态（global state）\n",
    "- 在多线程/并行环境中容易产生不可控的随机行为\n"
   ]
  },
  {
   "cell_type": "code",
   "execution_count": 27,
   "id": "6417243a",
   "metadata": {},
   "outputs": [
    {
     "name": "stdout",
     "output_type": "stream",
     "text": [
      "Array((), dtype=key<fry>) overlaying:\n",
      "[ 0 43]\n"
     ]
    }
   ],
   "source": [
    "from jax import random\n",
    "\n",
    "key = random.key(43)\n",
    "print(key)"
   ]
  },
  {
   "cell_type": "code",
   "execution_count": 29,
   "id": "ab733f33",
   "metadata": {},
   "outputs": [
    {
     "name": "stdout",
     "output_type": "stream",
     "text": [
      "0.81039715\n",
      "0.81039715\n"
     ]
    }
   ],
   "source": [
    "# 重复使用 key 会得到相同的随机结果\n",
    "print(random.normal(key))\n",
    "print(random.normal(key))"
   ]
  },
  {
   "cell_type": "markdown",
   "id": "2203c442",
   "metadata": {},
   "source": [
    "重要原则：不要重复使用同一个 key，除非你想得到相同的结果\n",
    "\n",
    "如何生成不同的样本？使用 random.split(key)\n"
   ]
  },
  {
   "cell_type": "code",
   "execution_count": 30,
   "id": "a3e96487",
   "metadata": {},
   "outputs": [],
   "source": [
    "new_key, subkey = random.split(key)"
   ]
  },
  {
   "cell_type": "markdown",
   "id": "b4f2015a",
   "metadata": {},
   "source": [
    "- split 会把一个 key 分裂成两个独立的 key\n",
    "- 原 key 被“消耗”，不再使用\n",
    "- subkey 用来生成随机值，new_key 用来生成下一个 key"
   ]
  },
  {
   "cell_type": "code",
   "execution_count": 33,
   "id": "271794a5",
   "metadata": {},
   "outputs": [
    {
     "name": "stdout",
     "output_type": "stream",
     "text": [
      "draw 0: 1.0474061965942383\n",
      "draw 1: 1.0435152053833008\n",
      "draw 2: -0.21346548199653625\n"
     ]
    }
   ],
   "source": [
    "for i in range(3):\n",
    "    new_key, subkey = random.split(key)\n",
    "    del key # The old key is consumed by split() -- we must never use it again.\n",
    "    val = random.normal(subkey)\n",
    "    del subkey  # The subkey is consumed by normal().\n",
    "    print(f\"draw {i}: {val}\")\n",
    "    key = new_key  # new_key is safe to use in the next iteration."
   ]
  },
  {
   "cell_type": "code",
   "execution_count": null,
   "id": "fadfa34a",
   "metadata": {},
   "outputs": [],
   "source": []
  }
 ],
 "metadata": {
  "kernelspec": {
   "display_name": "py39",
   "language": "python",
   "name": "python3"
  },
  "language_info": {
   "codemirror_mode": {
    "name": "ipython",
    "version": 3
   },
   "file_extension": ".py",
   "mimetype": "text/x-python",
   "name": "python",
   "nbconvert_exporter": "python",
   "pygments_lexer": "ipython3",
   "version": "3.9.19"
  }
 },
 "nbformat": 4,
 "nbformat_minor": 5
}
